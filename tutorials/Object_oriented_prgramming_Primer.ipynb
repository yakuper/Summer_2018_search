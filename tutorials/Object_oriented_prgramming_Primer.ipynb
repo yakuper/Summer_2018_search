{
 "cells": [
  {
   "cell_type": "markdown",
   "metadata": {},
   "source": [
    "#### Notebook Information:\n",
    "\n",
    "Before you begin, make a copy of this notebook and rename it.  This notebook assumes you know Python and that you know how to work with Jupyter notebooks.  As you work through this notebook you should experiment with the code and make notes in your copy.  You can do this in one of the cells already provided or by adding or copying a cell. \n",
    "\n",
    "As you work through this notebook, code examples are commented out.  This is designed to help you actively read what is happening in the code.  When you want to run the code, uncomment the lines.\n",
    "\n",
    "Sometimes you will be asked to write a piece of code.  Answers are provided in a link with the label `Help Me`. You can then copy the answer and use the `Back` link to get back to where you were.  Be sure to then put in the right answer and execute it before you go on.  At the end of each section you will be given an exercise that will help reinforce the material you have just learned.  Be sure to do this exercise before you go on.  \n",
    "\n",
    "Note, some cells may produce a python execution error if previous cells have not been executed properly.  So make sure you run every code cell, and uncomment and run every cell that you are asked to.  Also make sure any code you are asked to write has been written and executed.    "
   ]
  },
  {
   "cell_type": "markdown",
   "metadata": {},
   "source": [
    "## Object Oriented Programming\n",
    "\n",
    "Object Oriented Programming (OOP) extends the concept of a function in order to better modularize code.  Using objects changes the way we think about and design code.  Most modern labguages implement OOP.  We will do an example in a minute but first we review how Python implements OOP.  "
   ]
  },
  {
   "cell_type": "markdown",
   "metadata": {},
   "source": [
    "## Classes\n",
    "\n",
    "A class is a blueprint for a collection of data types and methods that operate on these types.  We instantiate the class by creating an object which can then access the data and methods of the class.  "
   ]
  },
  {
   "cell_type": "markdown",
   "metadata": {},
   "source": [
    "### Basic Syntax\n",
    "\n",
    "#### class definition\n",
    "\n",
    "```python\n",
    "class ClassName(object):\n",
    "    \"\"\" class desciptor \"\"\"\n",
    "    # class data types here\n",
    "    def __init__(self, name):  # class initializer called when object created\n",
    "        \"\"\" \n",
    "        method descriptor here name is passed at object instantiation\n",
    "        there can be more args\n",
    "        \"\"\"\n",
    "        self.name = name   # the way other methods access name as well\n",
    "    def show(self): \n",
    "        \"\"\"\n",
    "        A method to print the objects name, i.e., self.name\n",
    "        \"\"\"\n",
    "        print (\"Hi {}!\".format(self.name))\n",
    "```\n",
    "Notice, that init and show are both defined as functions inside the class.  Using proper OOP terminology these functions are called methods or class methods.   "
   ]
  },
  {
   "cell_type": "code",
   "execution_count": 10,
   "metadata": {},
   "outputs": [],
   "source": [
    "# Copy the class definition above and change ClassName to <Welcome>\n",
    "class Welcome(object):\n",
    "    \"\"\" class desciptor \"\"\"\n",
    "    # class data types here\n",
    "    def __init__(self, name):  # class initializer called when object created\n",
    "        \"\"\" \n",
    "        method descriptor here name is passed at object instantiation\n",
    "        there can be more args\n",
    "        \"\"\"\n",
    "        self.name = name   # the way other methods access name as well\n",
    "    def show(self): \n",
    "        \"\"\"\n",
    "        A method to print the objects name, i.e., self.name\n",
    "        \"\"\"\n",
    "        print (\"Hi {}!\".format(self.name))"
   ]
  },
  {
   "cell_type": "markdown",
   "metadata": {},
   "source": [
    "## objects \n",
    "\n",
    "Once we have a class defined we can make objects.\n",
    "\n",
    "```python\n",
    "    sample_object = ClassName(\"some_name\") # make an object\n",
    "    sample_object.show()  # show the objects name\n",
    "```\n",
    "Notice in line one we make an object and refer to it with the variable name sample_object.  We also pass the string \"some_name\" to the __init__ method to initialize the self.name string variable in the object itself.\n",
    "\n",
    "On line two we use the method show() for the object created to execute the print statement."
   ]
  },
  {
   "cell_type": "code",
   "execution_count": 11,
   "metadata": {},
   "outputs": [
    {
     "name": "stdout",
     "output_type": "stream",
     "text": [
      "Hi Kevin McCabe!\n",
      "<__main__.Welcome object at 0x0000000005D41D30>\n"
     ]
    }
   ],
   "source": [
    "# assuming you did the step above uncomment the following lines and run them\n",
    "welcome_kevin = Welcome(\"Kevin McCabe\") # make an object\n",
    "welcome_kevin.show()  # say hi      \n",
    "print(welcome_kevin)"
   ]
  },
  {
   "cell_type": "markdown",
   "metadata": {},
   "source": [
    "<a id=\"coding_problem_one\"></a>\n",
    "### Exercise 1\n",
    "\n",
    "Copy the welcome class into the cell below and add a method to say hi to the person in pig-latin using their pig-latin name.  Then create an object and try it.  The rules we will use for our pig-latin are simple.  \n",
    "\n",
    "#### Pig-Latin Rules\n",
    "\n",
    "* if the first letter of a word is a vowel (a, e, i, o, u), add the string 'way' to the end of the word, i.e., and becomes andway.\n",
    "* if the first letter of the word is a consanant move the string up to but not including the first vowel to the back of the word and add 'ay' to the end of the word, i.e., Kevin becomes evinKay. \n",
    "\n",
    "[Help Me](#problem_one)"
   ]
  },
  {
   "cell_type": "code",
   "execution_count": 1,
   "metadata": {},
   "outputs": [
    {
     "name": "stdout",
     "output_type": "stream",
     "text": [
      "Hi Kevin McCabe!\n",
      "\n",
      "Hi Kathy McCabe!\n",
      "\n",
      "Hi Maggie Lehr!\n"
     ]
    }
   ],
   "source": [
    "# add Welcome class here \n",
    "\n",
    "class Welcome(object):\n",
    "    \"\"\" class desciptor \"\"\"\n",
    "    # class data types here\n",
    "    def __init__(self, name):  # class initializer called when object created\n",
    "        \"\"\" \n",
    "        method descriptor here name is passed at object instantiation\n",
    "        there can be more args\n",
    "        \"\"\"\n",
    "        self.name = name   # the way other methods access name as well\n",
    "    \n",
    "    def show(self): \n",
    "        \"\"\"\n",
    "        A method to print the objects name, i.e., self.name\n",
    "        \"\"\"\n",
    "        print (\"Hi {}!\".format(self.name))\n",
    "        \n",
    "    def pig_latin(self):\n",
    "        \"\"\"Say Hi to self.name in pig_latin\"\"\"\n",
    "        pass\n",
    "        \n",
    "        \n",
    "welcome_kevin = Welcome(\"Kevin McCabe\") # make an object\n",
    "welcome_kevin.show()  # say hi      \n",
    "welcome_kevin.pig_latin() # say hi in pig latin\n",
    "print()\n",
    "welcome_kathy = Welcome(\"Kathy McCabe\") # make an object\n",
    "welcome_kathy.show()  # say hi      \n",
    "welcome_kathy.pig_latin() # say hi in pig latin\n",
    "print()\n",
    "welcome_maggie = Welcome(\"Maggie Lehr\")\n",
    "welcome_maggie.show()\n",
    "welcome_maggie.pig_latin()"
   ]
  },
  {
   "cell_type": "code",
   "execution_count": 20,
   "metadata": {},
   "outputs": [
    {
     "name": "stdout",
     "output_type": "stream",
     "text": [
      "Kevin McCabe\n"
     ]
    }
   ],
   "source": [
    "# a few last thoughts.  Uncomment and run the next line\n",
    "print(welcome_kevin.name)\n",
    "# notice that we can access name where self.name in the class definition is\n",
    "# now welcome_kevin.name"
   ]
  },
  {
   "cell_type": "code",
   "execution_count": 21,
   "metadata": {},
   "outputs": [
    {
     "ename": "AttributeError",
     "evalue": "'Welcome' object has no attribute 'pig_latin_name'",
     "output_type": "error",
     "traceback": [
      "\u001b[1;31m---------------------------------------------------------------------------\u001b[0m",
      "\u001b[1;31mAttributeError\u001b[0m                            Traceback (most recent call last)",
      "\u001b[1;32m<ipython-input-21-714e8437bad3>\u001b[0m in \u001b[0;36m<module>\u001b[1;34m()\u001b[0m\n\u001b[0;32m      1\u001b[0m \u001b[1;31m# uncomment and try the line below\u001b[0m\u001b[1;33m\u001b[0m\u001b[1;33m\u001b[0m\u001b[0m\n\u001b[1;32m----> 2\u001b[1;33m \u001b[0mprint\u001b[0m\u001b[1;33m(\u001b[0m\u001b[0mwelcome_kevin\u001b[0m\u001b[1;33m.\u001b[0m\u001b[0mpig_latin_name\u001b[0m\u001b[1;33m)\u001b[0m\u001b[1;33m\u001b[0m\u001b[0m\n\u001b[0m",
      "\u001b[1;31mAttributeError\u001b[0m: 'Welcome' object has no attribute 'pig_latin_name'"
     ]
    }
   ],
   "source": [
    "# uncomment and try the line below\n",
    "print(welcome_kevin.pig_latin_name)"
   ]
  },
  {
   "cell_type": "markdown",
   "metadata": {},
   "source": [
    "<a id=\"coding_problem_two\"></a>\n",
    "### Exercise 2\n",
    "\n",
    "Copy your modified welcome class into the cell below and fix the code so that you can run the line above without an error statement.  \n",
    "\n",
    "[Help Me](#problem_two)"
   ]
  },
  {
   "cell_type": "code",
   "execution_count": 2,
   "metadata": {},
   "outputs": [
    {
     "name": "stdout",
     "output_type": "stream",
     "text": [
      "Hi Carolyn Ann Drislane!\n",
      "\n",
      "Hi Kathleen Byrne McCabe!\n",
      "\n",
      "Hi Kevin Alfred McCabe!\n",
      "\n",
      "Kevin Alfred McCabe\n"
     ]
    },
    {
     "ename": "AttributeError",
     "evalue": "'Welcome' object has no attribute 'pig_latin_name'",
     "output_type": "error",
     "traceback": [
      "\u001b[1;31m---------------------------------------------------------------------------\u001b[0m",
      "\u001b[1;31mAttributeError\u001b[0m                            Traceback (most recent call last)",
      "\u001b[1;32m<ipython-input-2-5c2c24186c5e>\u001b[0m in \u001b[0;36m<module>\u001b[1;34m()\u001b[0m\n\u001b[0;32m     14\u001b[0m \u001b[0mprint\u001b[0m\u001b[1;33m(\u001b[0m\u001b[1;33m)\u001b[0m\u001b[1;33m\u001b[0m\u001b[0m\n\u001b[0;32m     15\u001b[0m \u001b[0mprint\u001b[0m\u001b[1;33m(\u001b[0m\u001b[0mwelcome_kevin\u001b[0m\u001b[1;33m.\u001b[0m\u001b[0mname\u001b[0m\u001b[1;33m)\u001b[0m\u001b[1;33m\u001b[0m\u001b[0m\n\u001b[1;32m---> 16\u001b[1;33m \u001b[0mprint\u001b[0m\u001b[1;33m(\u001b[0m\u001b[0mwelcome_kevin\u001b[0m\u001b[1;33m.\u001b[0m\u001b[0mpig_latin_name\u001b[0m\u001b[1;33m)\u001b[0m\u001b[1;33m\u001b[0m\u001b[0m\n\u001b[0m",
      "\u001b[1;31mAttributeError\u001b[0m: 'Welcome' object has no attribute 'pig_latin_name'"
     ]
    }
   ],
   "source": [
    "# Fix Welcome class here \n",
    "\n",
    "welcome_carolyn = Welcome(\"Carolyn Ann Drislane\") # make an object\n",
    "welcome_carolyn.show()  # say hi      \n",
    "welcome_carolyn.pig_latin() # say hi in pig latin\n",
    "print()\n",
    "welcome_kathy = Welcome(\"Kathleen Byrne McCabe\") # make an object\n",
    "welcome_kathy.show()  # say hi      \n",
    "welcome_kathy.pig_latin() # say hi in pig latin\n",
    "print()\n",
    "welcome_kevin = Welcome(\"Kevin Alfred McCabe\") # make an object\n",
    "welcome_kevin.show()  # say hi      \n",
    "welcome_kevin.pig_latin() # say hi in pig latin\n",
    "print()\n",
    "print(welcome_kevin.name)\n",
    "print(welcome_kevin.pig_latin_name)\n"
   ]
  },
  {
   "cell_type": "markdown",
   "metadata": {},
   "source": [
    "## Microeconomic Systems\n",
    "\n",
    "We can now think about a Microeconomic System as an object oriented system.  If you remeber a Microeconomic System looks like the following.\n",
    "\n",
    "\"picture of a microeconomic system\"\n",
    "\n",
    "We can immediately see that the system consists of three kinds of objects.  Enviornment objects, Instituion objects, and Agent objects.  In the next exercise we will walk thorugh the building of a microeconomic system for the Holt_Laury Risk experiment.     "
   ]
  },
  {
   "cell_type": "markdown",
   "metadata": {},
   "source": [
    "### Exercise\n",
    "\n",
    "In this extended exercise we will build the Holt_Laury risk ellicitation task as a Microeconomic System.  As we saw above this means we need to implement three objects.  We will start with a class called Agents.    \n"
   ]
  },
  {
   "cell_type": "code",
   "execution_count": 12,
   "metadata": {},
   "outputs": [
    {
     "name": "stdout",
     "output_type": "stream",
     "text": [
      "(0.5, 200) 2.649158683274018\n",
      "(0.5, 100) 4.951743776268064\n",
      "0 4.951743776268064\n",
      "(0.5, 220) 2.696813773176181\n",
      "(0.5, 80) 4.887827090513122\n",
      "1 4.887827090513122\n"
     ]
    },
    {
     "data": {
      "text/plain": [
       "(0, [(0.5, 200), (0.5, 100)], 4.951743776268064)"
      ]
     },
     "execution_count": 12,
     "metadata": {},
     "output_type": "execute_result"
    }
   ],
   "source": [
    "import math as mat\n",
    "class Agent(object):\n",
    "    \n",
    "    \"\"\" Agents will use a crra utility function to evaluate a \n",
    "        bundle of lotteries using the expected utility crieria and\n",
    "        then choose the lottery with the highest expected utility.\"\"\"\n",
    "    \n",
    "    def __init__(self, name, theta):  \n",
    "        self.name = name         # name of agent\n",
    "        self.theta = theta       # theta value for uitlity function\n",
    "        self.lottery_bundle = [] # budle of lotteries to be considered\n",
    "        self.lottery_choice = [None, []]  # index in bundle and lottery choice\n",
    "        self.lottery_outcome = [None, None]\n",
    "    \n",
    "    def utility(self, value):\n",
    "        if self.theta == 1.0:\n",
    "            if value == 0.0:  # Handle value = 0.0\n",
    "                return 0.0\n",
    "            else:\n",
    "                return mat.log(value)\n",
    "        elif self.theta > 0:\n",
    "            if value == 0.0:   # Handle value = 0.0\n",
    "                return 0.0\n",
    "            else:\n",
    "                return (1.0/(1.0-self.theta))*(value)**(1.0-self.theta)\n",
    "            \n",
    "    def set_bundle(self, bundle):\n",
    "        self.lottery_bundle = bundle\n",
    "    \n",
    "    def choose_lottery(self):\n",
    "        if self.lottery_bundle == []:\n",
    "            return\n",
    "        else:\n",
    "            eu = 0\n",
    "            choice = -1\n",
    "            for index,lottery in enumerate(self.lottery_bundle):\n",
    "                new_eu = 0\n",
    "                for pair in lottery:\n",
    "                    new_eu += pair[0]*self.utility(pair[1])\n",
    "                    print(pair, new_eu)\n",
    "                print(index, new_eu)\n",
    "                if new_eu >= eu:\n",
    "                    eu = new_eu\n",
    "                    choice = index\n",
    "        return (choice, self.lottery_bundle[choice], eu)\n",
    "\n",
    "            \n",
    "\n",
    "a1 = Agent('ev', 1.0)\n",
    "a1.utility(100)\n",
    "a1.set_bundle([[(.5, 200), (.5, 100)], [(.5, 220),(.5, 80)]])\n",
    "a1.choose_lottery()"
   ]
  },
  {
   "cell_type": "markdown",
   "metadata": {},
   "source": [
    "ok so far"
   ]
  },
  {
   "cell_type": "markdown",
   "metadata": {},
   "source": [
    "<a id=\"problem_one\"></a>\n",
    "### Answer to Exercise One\n",
    "[BACK](#coding_problem_one)"
   ]
  },
  {
   "cell_type": "code",
   "execution_count": 3,
   "metadata": {},
   "outputs": [],
   "source": [
    "class Welcome(object):\n",
    "    \"\"\" class desciptor \"\"\"\n",
    "    # class data types here\n",
    "    def __init__(self, name):  # class initializer called when object created\n",
    "        \"\"\" \n",
    "        method descriptor here name is passed at object instantiation\n",
    "        there can be more args\n",
    "        \"\"\"\n",
    "        self.name = name   # the way other methods access name as well\n",
    "    \n",
    "    def show(self): \n",
    "        \"\"\"\n",
    "        A method to print the objects name, i.e., self.name\n",
    "        \"\"\"\n",
    "        print (\"Hi {}!\".format(self.name))\n",
    "        \n",
    "    def pig_latin(self):\n",
    "        def pig_latinize(word):\n",
    "            vowels = \"aeiouAEIOU\"\n",
    "            if word == \"\":\n",
    "                return word\n",
    "            if word[0] in vowels:\n",
    "                return word + 'way '\n",
    "            else:\n",
    "                for index, letter in enumerate(word):\n",
    "                    if letter in vowels:\n",
    "                        return word[index:] + word[:index] + \"ay \"\n",
    "                        \n",
    "        \"\"\"A Method to say hi to a person in pig latin\"\"\"\n",
    "        persons_name = self.name.split(\" \")\n",
    "        pig_latin_name = \"\"\n",
    "        for word in persons_name:\n",
    "            pig_latin_name += pig_latinize(word)\n",
    "        # pig_latin_name = \"evinKay abeMcCay\"\n",
    "        print (\"iHay {}!\".format(pig_latin_name))\n",
    " "
   ]
  },
  {
   "cell_type": "markdown",
   "metadata": {},
   "source": [
    "<a id=\"problem_two\"></a>\n",
    "### Answer to Exercise Two\n",
    "[BACK](#coding_problem_two)"
   ]
  },
  {
   "cell_type": "code",
   "execution_count": 4,
   "metadata": {},
   "outputs": [],
   "source": [
    "class Welcome(object):\n",
    "    \"\"\" class desciptor \"\"\"\n",
    "    # class data types here\n",
    "    def __init__(self, name):  # class initializer called when object created\n",
    "        \"\"\" \n",
    "        method descriptor here name is passed at object instantiation\n",
    "        there can be more args\n",
    "        \"\"\"\n",
    "        self.name = name   # the way other methods access name as well\n",
    "        pig_latin_name = \"\" # initialize a pig_latin_name      change here\n",
    "    \n",
    "    def show(self): \n",
    "        \"\"\"\n",
    "        A method to print the objects name, i.e., self.name\n",
    "        \"\"\"\n",
    "        print (\"Hi {}!\".format(self.name))\n",
    "        \n",
    "    def pig_latin(self):\n",
    "        def pig_latinize(word):\n",
    "            vowels = \"aeiouAEIOU\"\n",
    "            if word == \"\":\n",
    "                return word\n",
    "            if word[0] in vowels:\n",
    "                return word + 'way '\n",
    "            else:\n",
    "                for index, letter in enumerate(word):\n",
    "                    if letter in vowels:\n",
    "                        return word[index:] + word[:index] + \"ay \"\n",
    "                        \n",
    "        \"\"\"A Method to say hi to a person in pig latin\"\"\"\n",
    "        persons_name = self.name.split(\" \")\n",
    "        self.pig_latin_name = \"\"                        # change here\n",
    "        for word in persons_name:\n",
    "            self.pig_latin_name += pig_latinize(word)   # change here\n",
    "        # pig_latin_name = \"evinKay abeMcCay\"\n",
    "        print (\"iHay {}\".format(self.pig_latin_name))   # change here\n",
    " "
   ]
  }
 ],
 "metadata": {
  "kernelspec": {
   "display_name": "Python 3",
   "language": "python",
   "name": "python3"
  },
  "language_info": {
   "codemirror_mode": {
    "name": "ipython",
    "version": 3
   },
   "file_extension": ".py",
   "mimetype": "text/x-python",
   "name": "python",
   "nbconvert_exporter": "python",
   "pygments_lexer": "ipython3",
   "version": "3.6.4"
  }
 },
 "nbformat": 4,
 "nbformat_minor": 2
}
