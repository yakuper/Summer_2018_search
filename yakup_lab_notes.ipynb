{
 "cells": [
  {
   "cell_type": "markdown",
   "metadata": {},
   "source": [
    "### REU Lab notes\n",
    "\n",
    "This are my lab notes for the search experiment."
   ]
  },
  {
   "cell_type": "markdown",
   "metadata": {},
   "source": [
    "<a id=\"table of content\"></a>\n",
    "* #### Table of Content\n",
    "    * [SymPy](#note 1)\n",
    "    * [Risk Model](#risk model)\n",
    "    * [Search Model](#search model)"
   ]
  },
  {
   "cell_type": "markdown",
   "metadata": {},
   "source": [
    "<a id=\"note 1\"></a>\n",
    "##### SymPy\n",
    "\n",
    "* Issues\n",
    "    * restart the kernal if python stopped working\n",
    "\n",
    "\n",
    "\n",
    "\n",
    "\n",
    "\n",
    "\n",
    "\n",
    "\n",
    "\n",
    "\n"
   ]
  },
  {
   "cell_type": "markdown",
   "metadata": {},
   "source": [
    "<a id=\"risk model\"></a>\n",
    "##### Risk Model\n"
   ]
  },
  {
   "cell_type": "code",
   "execution_count": 118,
   "metadata": {},
   "outputs": [
    {
     "name": "stdout",
     "output_type": "stream",
     "text": [
      "1.0\n",
      "theta = 0.1\n",
      "['A', 'A', 'A', 'A', 'B', 'B', 'B', 'B', 'B', 'B']\n",
      "\n",
      "\n",
      "theta = 0.2\n",
      "['A', 'A', 'A', 'A', 'A', 'B', 'B', 'B', 'B', 'B']\n",
      "\n",
      "\n",
      "theta = 0.30000000000000004\n",
      "['A', 'A', 'A', 'A', 'A', 'B', 'B', 'B', 'B', 'B']\n",
      "\n",
      "\n",
      "theta = 0.4\n",
      "['A', 'A', 'A', 'A', 'A', 'B', 'B', 'B', 'B', 'B']\n",
      "\n",
      "\n",
      "theta = 0.5\n",
      "['A', 'A', 'A', 'A', 'A', 'A', 'B', 'B', 'B', 'B']\n",
      "\n",
      "\n",
      "theta = 0.6000000000000001\n",
      "['A', 'A', 'A', 'A', 'A', 'A', 'B', 'B', 'B', 'B']\n",
      "\n",
      "\n",
      "theta = 0.7000000000000001\n",
      "['A', 'A', 'A', 'A', 'A', 'A', 'A', 'B', 'B', 'B']\n",
      "\n",
      "\n",
      "theta = 0.8\n",
      "['A', 'A', 'A', 'A', 'A', 'A', 'A', 'B', 'B', 'B']\n",
      "\n",
      "\n"
     ]
    }
   ],
   "source": [
    "import sympy as sp \n",
    "import pylab as pl\n",
    "import math\n",
    "e = math.e\n",
    "\n",
    "def utility_fuction(theta,payoff):\n",
    "    \"\"\"return utility for specific theta value and  payoff\"\"\"\n",
    "    t, c = sp.symbols('t c')\n",
    "    if theta != 1:\n",
    "        u = (1/(1-t))*(c**(1-t))\n",
    "        util = u.subs([(t,theta),(c,payoff)])\n",
    "    else:\n",
    "        u = math.log(c,e)\n",
    "        util = u.subs([(c,payoff)])\n",
    "        #still having problem when theta=1\n",
    "    return util \n",
    "\n",
    "\n",
    "\n",
    "\n",
    "def total_utility_function(probablity1,payoff1,probablity2,payoff2,thetat):\n",
    "    \"\"\"return total utility given two payoffs their probablities and theta\"\"\"\n",
    "    p1, ut1, p2, ut2 = sp.symbols('p1 ut1 p2 ut2')\n",
    "    ut1 = utility_fuction(thetat,payoff1)\n",
    "    ut2 = utility_fuction(thetat,payoff2)\n",
    "    uu = (p1 * ut1) + (p2 * ut2)\n",
    "    expected_total_util = uu.subs([(p1,probablity1),(p2,probablity2)])\n",
    "    #print(expected_total_util)\n",
    "    return expected_total_util\n",
    "\n",
    "\n",
    "def option_choice(payoff1A,payoff2A,payoff1B,payoff2B,thetatt):\n",
    "    \"\"\"return option choices\"\"\"\n",
    "    option_choices = []\n",
    "    for i in range (1,11):\n",
    "        if total_utility_function((i/10),payoff1A,(1-(i/10)),payoff2A,\n",
    "                thetatt) > total_utility_function((i/10),payoff1B,(1-(i/10)),payoff2B,thetatt):\n",
    "            option_choices.append('A')\n",
    "        else:\n",
    "            option_choices.append('B')\n",
    "    return option_choices\n",
    "\n",
    "print(math.log(math.e))\n",
    "\n",
    "\n",
    "for i in range (1,9): #generate Key for agents with differemt theta\n",
    "    print('theta =', 0.1*i)\n",
    "    print(option_choice(2,1.6,3.85,0.1,0.1*i))\n",
    "    print(\"\\n\")\n",
    "    \n",
    "\n"
   ]
  },
  {
   "cell_type": "markdown",
   "metadata": {},
   "source": [
    "<a id=\"search model\"></a>\n",
    "##### Search Model\n"
   ]
  },
  {
   "cell_type": "code",
   "execution_count": 117,
   "metadata": {},
   "outputs": [
    {
     "name": "stdout",
     "output_type": "stream",
     "text": [
      "reserve_price = 0.6666666666666665\n"
     ]
    }
   ],
   "source": [
    "import sympy as sp \n",
    "import pylab as pl\n",
    "import math\n",
    "\n",
    "def reserve_price(probablity,reward,cost):\n",
    "    \"\"\"given probablity of sucxcess, reward of success and the \n",
    "            cost of opening the box, return reservation price\"\"\"\n",
    "    z = (probablity * reward - cost) / probablity\n",
    "    return z\n",
    "\n",
    "print('reserve_price =',reserve_price(0.3,4,1))\n",
    "\n",
    "rp_x_coords = []\n",
    "rp_y_coords = []\n",
    "\n",
    "for i in range (0,100):\n",
    "    \n",
    "    \n",
    "    \n",
    "    \n",
    "    \n",
    "\n",
    "    \n",
    "    \n",
    "pl.plot(x_coords,y_coords, color='red')\n",
    "\n",
    "\n",
    "\n",
    "\n",
    "\n",
    "\n",
    "\n",
    "\n",
    "\n",
    "\n",
    "\n"
   ]
  }
 ],
 "metadata": {
  "kernelspec": {
   "display_name": "Python 3",
   "language": "python",
   "name": "python3"
  },
  "language_info": {
   "codemirror_mode": {
    "name": "ipython",
    "version": 3
   },
   "file_extension": ".py",
   "mimetype": "text/x-python",
   "name": "python",
   "nbconvert_exporter": "python",
   "pygments_lexer": "ipython3",
   "version": "3.6.4"
  }
 },
 "nbformat": 4,
 "nbformat_minor": 2
}
