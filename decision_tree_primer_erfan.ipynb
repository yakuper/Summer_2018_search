{
 "cells": [
  {
   "cell_type": "markdown",
   "metadata": {},
   "source": [
    "#### Notebook Information:\n",
    "\n",
    "Before you begin, make a copy of this notebook and rename it.  This notebook assumes you know Python and that you know how to work with Jupyter notebooks.  As you work through this notebook you should experiment with the code and make notes in your copy.  You can do this in one of the cells already provided or by adding or copying a cell. \n",
    "\n",
    "As you work through this notebook, code examples are commented out.  This is designed to help you actively read what is happening in the code.  When you want to run the code, uncomment the lines.\n",
    "\n",
    "Sometimes you will be asked to write a piece of code.  Answers are provided in a link with the label `Help Me`. You can then copy the answer and use the `Back` link to get back to where you were.  Be sure to then put in the right answer and execute it before you go on.  At the end of each section you will be given an exercise that will help reinforce the material you have just learned.  Be sure to do this exercise before you go on.  \n",
    "\n",
    "Note, some cells may produce a python execution error if previous cells have not been executed properly.  So make sure you run every code cell, and uncomment and run every cell that you are asked to.  Also make sure any code you are asked to write has been written and executed.    "
   ]
  },
  {
   "cell_type": "markdown",
   "metadata": {},
   "source": [
    "## Decision Trees\n",
    "\n",
    "Decision trees are used to model decision problems.  Decision makers can be indiviudals, or organizations who use a consensus mechanism or a delegation mechanism to make decisions.  The syntatical rules for building a decision tree are simple but generative and can represent many different decision problems.  Let's look at a simple example with all of the elements found in a decision tree model.  \n",
    "\n",
    "### Decision Tree Example\n",
    "\n",
    "Consider a decision problem where our decision maker must choose between accepting a sure thing or letting a coin toss determine one of two possible outcomes.        "
   ]
  },
  {
   "cell_type": "markdown",
   "metadata": {},
   "source": [
    "#### Figure 1:  Sure or Flip Decision Tree\n",
    "\n",
    "<img src=\"flip_coin.png\" alt=\"Tree for sure or flip\" title=\"Sure of Flip Example\" />\n"
   ]
  },
  {
   "cell_type": "markdown",
   "metadata": {},
   "source": [
    "In our example there are five nodes represented by filled circles.  In each node is a unique node_index which consecutively numbers the nodes, 0, 1, 2, 3, and 4.  To the right of each node is a descriptive name of the node.  Node 0 is always our starting node and has been given the name `decide`. On the left of each node we see the letters, d, n, and t, which describe the type of the node.\n",
    "\n",
    "*   A d)ecision node, denoted d, indicates a choice to move to another node.\n",
    "*   A n)ature node, denoted n, indicates that a move will be made by nature.\n",
    "*   A t)erminal node, denoted t, indicates the end of tree has been reached.\n",
    "\n",
    "For t)erminal nodes  we see a number below the node that indicates the `payoff` the decision maker gets if that node is reached. "
   ]
  },
  {
   "cell_type": "markdown",
   "metadata": {},
   "source": [
    "A play of the decision tree is a seqeunce of moves, by nature and by the decision maker, that start at node 0 and end at a terminal node resulting in a payoff for the decision maker. \n",
    "\n",
    "In decision tree, moves by nature represent moves that are not controlled by the decision maker.  These moves introduce uncertainty about the play of the game making it uncertain which terminal node will be reached.\n",
    "\n",
    "Let's now go through our example tree node by node.  Node 0 is connected by branches to two other nodes, labeled 1 and 2.  These nodes are the descendants of node 0.  We can also call node 0 the ancestor of nodes 1 and 2.  Since node 0 is a decision node, a decision maker at node 0 has to choose between moving to node 1 or moving to node 2.  A move to the terminal node 1 ends the decision problem and the decision maker receives the payoff of 50 shown under node 1.  However, a move to nature node 2 results in a coin toss.  The decision maker has a 50% chance of moving to the terminal node 3 and receiving a payoff of 30, or a 50% chance of moving to the terminal node 4 and receiving a payoff of 80.    "
   ]
  },
  {
   "cell_type": "markdown",
   "metadata": {},
   "source": [
    "### Decision Tree Rules\n",
    "\n",
    "Here are the rules for building a decision tree:\n",
    "\n",
    "*  A decision tree contains a finite set of nodes.\n",
    "*  Each node must be of type d)ecision, n)ature, or t)erminal.\n",
    "*  A decision tree has a unique starting node (node 0).\n",
    "*  A branch between two nodes exists if one node is the ancestor and the other node is the descendant.\n",
    "*  Decision nodes and nature nodes are always ancestors.\n",
    "*  Terminal nodes are never ancestors.\n",
    "*  Two nodes in the tree are connected if there exists a sequences of branches that conncets the two nodes.\n",
    "*  All nodes are connected to node 0.\n",
    "*  Node 0 and each terminal node is connected by one unique sequence of branches."
   ]
  },
  {
   "cell_type": "markdown",
   "metadata": {},
   "source": [
    "### Decision Tree Module:  Users Guide\n",
    "\n",
    "The decision tree module has a number of functions that allow you to analyze decision trees.  We will examine each of these functions in this notebook.   Before we can begin we need to import the decision tree module into our notebook session.\n"
   ]
  },
  {
   "cell_type": "code",
   "execution_count": 5,
   "metadata": {},
   "outputs": [
    {
     "ename": "ModuleNotFoundError",
     "evalue": "No module named 'decision_tree'",
     "output_type": "error",
     "traceback": [
      "\u001b[1;31m---------------------------------------------------------------------------\u001b[0m",
      "\u001b[1;31mModuleNotFoundError\u001b[0m                       Traceback (most recent call last)",
      "\u001b[1;32m<ipython-input-5-926bba365098>\u001b[0m in \u001b[0;36m<module>\u001b[1;34m()\u001b[0m\n\u001b[0;32m      1\u001b[0m \u001b[1;32mimport\u001b[0m \u001b[0msys\u001b[0m\u001b[1;33m\u001b[0m\u001b[0m\n\u001b[0;32m      2\u001b[0m \u001b[0msys\u001b[0m\u001b[1;33m.\u001b[0m\u001b[0mpath\u001b[0m\u001b[1;33m.\u001b[0m\u001b[0mappend\u001b[0m\u001b[1;33m(\u001b[0m\u001b[1;34m\"../\"\u001b[0m\u001b[1;33m)\u001b[0m \u001b[1;31m# go to parent dir\u001b[0m\u001b[1;33m\u001b[0m\u001b[0m\n\u001b[1;32m----> 3\u001b[1;33m \u001b[1;32mimport\u001b[0m \u001b[0mdecision_tree\u001b[0m \u001b[1;32mas\u001b[0m \u001b[0mdt\u001b[0m\u001b[1;33m\u001b[0m\u001b[0m\n\u001b[0m",
      "\u001b[1;31mModuleNotFoundError\u001b[0m: No module named 'decision_tree'"
     ]
    }
   ],
   "source": [
    "import sys\n",
    "sys.path.append(\"../\") # go to parent dir\n",
    "import decision_tree as dt"
   ]
  },
  {
   "cell_type": "markdown",
   "metadata": {},
   "source": [
    "We can see what functions decision_tree has.  To do this uncomment and run the line below.  "
   ]
  },
  {
   "cell_type": "code",
   "execution_count": 2,
   "metadata": {},
   "outputs": [
    {
     "data": {
      "text/plain": [
       "['__builtins__',\n",
       " '__cached__',\n",
       " '__doc__',\n",
       " '__file__',\n",
       " '__loader__',\n",
       " '__name__',\n",
       " '__package__',\n",
       " '__spec__',\n",
       " 'build',\n",
       " 'calc_expected_value',\n",
       " 'calc_max_value',\n",
       " 'calc_values',\n",
       " 'check_all_descendants_used',\n",
       " 'edit',\n",
       " 'fill_node',\n",
       " 'get_ancestory',\n",
       " 'get_menu_choice',\n",
       " 'get_new_node',\n",
       " 'get_new_probability',\n",
       " 'get_node_descendants',\n",
       " 'get_node_name',\n",
       " 'get_node_pay',\n",
       " 'get_node_probabilities',\n",
       " 'get_node_type',\n",
       " 'get_strategy',\n",
       " 'help',\n",
       " 'is_number',\n",
       " 'load',\n",
       " 'parse_line',\n",
       " 'path',\n",
       " 'play',\n",
       " 'play_nature',\n",
       " 'process_loop',\n",
       " 'random',\n",
       " 'save_tree',\n",
       " 'see',\n",
       " 'short_menu',\n",
       " 'show',\n",
       " 'show_computed_values',\n",
       " 'show_strategy',\n",
       " 'sim',\n",
       " 'sim_decisions',\n",
       " 'solve']"
      ]
     },
     "execution_count": 2,
     "metadata": {},
     "output_type": "execute_result"
    }
   ],
   "source": [
    "dir(dt)"
   ]
  },
  {
   "cell_type": "markdown",
   "metadata": {},
   "source": [
    "You can also print out the documentation for all of the functions.  To do this uncomment and run the line below"
   ]
  },
  {
   "cell_type": "code",
   "execution_count": 3,
   "metadata": {},
   "outputs": [
    {
     "name": "stdout",
     "output_type": "stream",
     "text": [
      "Help on module decision_tree:\n",
      "\n",
      "NAME\n",
      "    decision_tree\n",
      "\n",
      "FUNCTIONS\n",
      "    build()\n",
      "        Builds a tree using user input\n",
      "    \n",
      "    calc_expected_value(node, tree)\n",
      "        Calculate expected value of nature node\n",
      "    \n",
      "    calc_max_value(node, tree)\n",
      "        Calculate value of optimal move in a decison node\n",
      "        \n",
      "        args: node, the decision node to check\n",
      "              tree, a list of dictionary nodes\n",
      "        return: choice, integer best choice node in descendants\n",
      "                float(v) the value associated with the best choice\n",
      "    \n",
      "    calc_values(strategy, tree)\n",
      "    \n",
      "    check_all_descendants_used(node, tree)\n",
      "        Check to make sure all descendants have bben used\n",
      "        \n",
      "        arge: node, dictionary of node to check\n",
      "              tree, list of dictioaries of all nodes\n",
      "        \n",
      "        return:  boolean True if all descendants have been used\n",
      "    \n",
      "    edit(tree)\n",
      "        Allows user to make a few edits to an existing tree\n",
      "        parm: tree, a list of node dictionaries\n",
      "        return: tree, updated version of tree\n",
      "    \n",
      "    fill_node(tree, node_index)\n",
      "        Used by build_tree to populates a node in the decision tree\n",
      "        \n",
      "        args:  tree: a list of dictionaries\n",
      "               node_index:  current node or dictionary item in list\n",
      "        return: tree\n",
      "    \n",
      "    get_ancestory(tree)\n",
      "        Calculates all the ancestors in a tree\n",
      "    \n",
      "    get_menu_choice(key_words)\n",
      "        Gets choice and checks against key_words list\n",
      "    \n",
      "    get_new_node(next_node)\n",
      "        Used by fill_node to get node name\n",
      "    \n",
      "    get_new_probability(k)\n",
      "        Used by get_node_probabilities to get valis probability\n",
      "    \n",
      "    get_node_descendants(tree_length, node_index)\n",
      "        Used by fill_node to get descendants of node\n",
      "    \n",
      "    get_node_name()\n",
      "        Used by fill_node to get node name\n",
      "    \n",
      "    get_node_pay()\n",
      "        Used by fill_node to get node name\n",
      "    \n",
      "    get_node_probabilities(descendants)\n",
      "        Used by fill_node to get probability distribution for nature node choices\n",
      "    \n",
      "    get_node_type()\n",
      "        Used by fill_node to get node name\n",
      "    \n",
      "    get_strategy(tree)\n",
      "        Allows user to input a strategy for a tree.  A strategy is a\n",
      "        choice of descendant node at each decision node.\n",
      "    \n",
      "    help()\n",
      "        Verbose help screen when 'help' is typed.\n",
      "    \n",
      "    is_number(s)\n",
      "    \n",
      "    load()\n",
      "        Loads a tree.  Will ask for filename.  Checks that .txt file exists\n",
      "    \n",
      "    parse_line(line)\n",
      "        Parses input line for load_tree\n",
      "    \n",
      "    path(strategy, tree, node=0, indent='')\n",
      "        Recursive function to print the tree and show the strategy with *\n",
      "        arg: strategy, list of decisions\n",
      "        arg: next_choice, node to *\n",
      "        arg: tree, decision tree list of dictionary nodes\n",
      "        arg: node_index, current node to work on\n",
      "        arg: level, current level of the tree to work on\n",
      "    \n",
      "    play(strategy, tree, cur_node=0)\n",
      "        play tree using strategy while starting at cur_node\n",
      "    \n",
      "    play_nature(probs)\n",
      "        Used by play_tree to play a nature node\n",
      "    \n",
      "    process_loop()\n",
      "        Prints menu choices and accepts choice\n",
      "    \n",
      "    save_tree(tree)\n",
      "        Saves a tree.  Will ask for filename.  Filename must not already exist\n",
      "    \n",
      "    see(strategy, tree)\n",
      "    \n",
      "    short_menu()\n",
      "        Print menu choices on console\n",
      "    \n",
      "    show(tree, node_index=0, level=0)\n",
      "        Recursive function to print the tree on the console with indentations for levels of the tree\n",
      "    \n",
      "    show_computed_values(tree, node_index, level)\n",
      "    \n",
      "    show_strategy(strategy, next_choice, tree, node_index, level)\n",
      "        Recursive function to print the tree and show the strategy with *\n",
      "        arg: strategy, list of decisions\n",
      "        arg: next_choice, node to *\n",
      "        arg: tree, decision tree list of dictionary nodes\n",
      "        arg: node_index, current node to work on\n",
      "        arg: level, current level of the tree to work on\n",
      "    \n",
      "    sim(strategy, tree, num_trials=20)\n",
      "        :param num_trials:\n",
      "        :param tree:\n",
      "        :param strategy:\n",
      "        :return output\n",
      "    \n",
      "    sim_decisions(num_trials, tree, strategy)\n",
      "        :param num_trials:\n",
      "        :param tree:\n",
      "        :param strategy:\n",
      "        :return:\n",
      "    \n",
      "    solve(tree)\n",
      "        Uses backward induction to find the strategy in tree that maximizes expected value\n",
      "        \n",
      "        args: tree, a list of dictioanries\n",
      "        return: strategy, a list of choices at decision nodes\n",
      "                tree, updated tree with completed subvalue at every node\n",
      "        \n",
      "        tree[0]['subvalue'] contains the expected value of the optimal strategy\n",
      "\n",
      "FILE\n",
      "    c:\\users\\admin\\desktop\\decisiontree\\decision_tree.py\n",
      "\n",
      "\n"
     ]
    }
   ],
   "source": [
    "help(dt)"
   ]
  },
  {
   "cell_type": "markdown",
   "metadata": {},
   "source": [
    "You can also get help on a specific function.  For example, to get help on the function `dt.help` uncomment the line below and run it."
   ]
  },
  {
   "cell_type": "code",
   "execution_count": 2,
   "metadata": {},
   "outputs": [
    {
     "ename": "NameError",
     "evalue": "name 'dt' is not defined",
     "output_type": "error",
     "traceback": [
      "\u001b[1;31m---------------------------------------------------------------------------\u001b[0m",
      "\u001b[1;31mNameError\u001b[0m                                 Traceback (most recent call last)",
      "\u001b[1;32m<ipython-input-2-ec3b295a516d>\u001b[0m in \u001b[0;36m<module>\u001b[1;34m()\u001b[0m\n\u001b[1;32m----> 1\u001b[1;33m \u001b[0mprint\u001b[0m\u001b[1;33m(\u001b[0m\u001b[0mdt\u001b[0m\u001b[1;33m.\u001b[0m\u001b[0mhelp\u001b[0m\u001b[1;33m.\u001b[0m\u001b[0m__doc__\u001b[0m\u001b[1;33m)\u001b[0m\u001b[1;33m\u001b[0m\u001b[0m\n\u001b[0m",
      "\u001b[1;31mNameError\u001b[0m: name 'dt' is not defined"
     ]
    }
   ],
   "source": [
    "print(dt.help.__doc__)"
   ]
  },
  {
   "cell_type": "markdown",
   "metadata": {},
   "source": [
    "Go ahead and uncomment the code in the next cell to run the `dt.help` function.  "
   ]
  },
  {
   "cell_type": "code",
   "execution_count": 1,
   "metadata": {},
   "outputs": [
    {
     "ename": "NameError",
     "evalue": "name 'dt' is not defined",
     "output_type": "error",
     "traceback": [
      "\u001b[1;31m---------------------------------------------------------------------------\u001b[0m",
      "\u001b[1;31mNameError\u001b[0m                                 Traceback (most recent call last)",
      "\u001b[1;32m<ipython-input-1-a4181f407635>\u001b[0m in \u001b[0;36m<module>\u001b[1;34m()\u001b[0m\n\u001b[1;32m----> 1\u001b[1;33m \u001b[0mdt\u001b[0m\u001b[1;33m.\u001b[0m\u001b[0mhelp\u001b[0m\u001b[1;33m(\u001b[0m\u001b[1;33m)\u001b[0m\u001b[1;33m\u001b[0m\u001b[0m\n\u001b[0m",
      "\u001b[1;31mNameError\u001b[0m: name 'dt' is not defined"
     ]
    }
   ],
   "source": [
    "dt.help()"
   ]
  },
  {
   "cell_type": "markdown",
   "metadata": {},
   "source": [
    "### Loading and Showing Trees\n",
    "\n",
    "We will begin with some functions that allow us to load and then show a decision tree.\n",
    "```python\n",
    "my_tree = load()  # Loads a decision tree from a file into my_tree\n",
    "show(my_tree)     # Displays the deicision tree\n",
    "```\n",
    "First lets load a file.  Uncomment the line and run it.  You will be asked for a filename.  Enter the name sure_or_flip.  "
   ]
  },
  {
   "cell_type": "code",
   "execution_count": 6,
   "metadata": {},
   "outputs": [
    {
     "name": "stdout",
     "output_type": "stream",
     "text": [
      "Enter a file name:\n",
      "sure_or_flip\n",
      "File sure_or_flip will now be loaded\n"
     ]
    }
   ],
   "source": [
    "first_tree = dt.load()"
   ]
  },
  {
   "cell_type": "markdown",
   "metadata": {},
   "source": [
    "Now that we have a decision tree loaded into the variable first_tree we can now show the tree.  To do this uncomment and run the cell below. "
   ]
  },
  {
   "cell_type": "code",
   "execution_count": 7,
   "metadata": {},
   "outputs": [
    {
     "name": "stdout",
     "output_type": "stream",
     "text": [
      "0-decide#-1(d)\n",
      "   1-sure_thing#0(t)50.0\n",
      "   2-flip_coin#0(n)[0.5,0.5]\n",
      "      3-heads#2(t)30.0\n",
      "      4-tails#2(t)80.0\n"
     ]
    }
   ],
   "source": [
    "dt.show(first_tree)"
   ]
  },
  {
   "cell_type": "markdown",
   "metadata": {},
   "source": [
    "This tree is the same tree that we saw in Figure 1. \n",
    "\n",
    "*  The first piece of information is the `node_index` followed by a dash (-). \n",
    "*  The next piece of information is the `node name` followed by a hashtag (#). \n",
    "*  After the hash tag is the node_index of the `ancestor` to the node.  Node 'decide' has no ancestor so this defaults to -1.  Nodes sure_thing and flip_coin both have node 0 as their ancestor.  Any node, after node 0, only has one ancestor.  \n",
    "*  Following the ancestor is a letter in parentheses.  This is the `type` of the node in the decision tree.  Nodes come in three types, d, n, and t.  \n",
    "*  After a terminal node, we see the `payoff`. \n",
    "*  After a nature node, we see a list containing the `probability distribution` governing the move to the descendant nodes. \n",
    "*  `Descendants` to a node are always shown as the next sublevel below their ancestor."
   ]
  },
  {
   "cell_type": "markdown",
   "metadata": {},
   "source": [
    "\n",
    "\n",
    "### Soving the tree.  \n",
    "\n",
    "Now that we have a tree loaded we can solve for the tree using backwards induction. When we call solve(tree) it returns a strategy which shows us the decisions that will maximize the expected value of the outcome. It also returns the tree with some additional information.\n",
    "\n",
    "```python\n",
    "optimal_my_tree_strategy, my_tree = dt.solve(my_tree) # Solves tree.  \n",
    "\n",
    "dt.path(optimal_my_tree_strategy, my_tree) # Shows feasible paths\n",
    "\n",
    "# It also returns the tree with some additional information.\n",
    "\n",
    "dt.see(optimal_my_tree_strategy, my_tree) # Shows computed values.\n",
    "```\n",
    "\n",
    "Uncomment the line below to solve first_tree."
   ]
  },
  {
   "cell_type": "code",
   "execution_count": 8,
   "metadata": {},
   "outputs": [],
   "source": [
    "first_strategy, first_tree = dt.solve(first_tree)"
   ]
  },
  {
   "cell_type": "markdown",
   "metadata": {},
   "source": [
    "<a id=\"coding_problem_one\"></a>  \n",
    "#### Coding Problem 1:\n",
    "\n",
    "We need to print out optimnal strategy and see what values it contains.  Go ahead and do this now in the blank code cell below.\n",
    "\n",
    "[Help Me](#problem_one)"
   ]
  },
  {
   "cell_type": "code",
   "execution_count": 9,
   "metadata": {},
   "outputs": [
    {
     "name": "stdout",
     "output_type": "stream",
     "text": [
      "[2, -1, -1, -1, -1]\n"
     ]
    }
   ],
   "source": [
    "print(first_strategy)"
   ]
  },
  {
   "cell_type": "markdown",
   "metadata": {},
   "source": [
    "A strategy is a list with a length equal to the number of nodes.  The index of strategy corresponds to the node_index.  Thus `strategy[0]` corresponds to node 0 etc.  If the node at node_index is a decison node, the strategy contain the descendant to be chosen, that is, `strategy[node_index] = descendant_node_index to be chosen`.  All non-decision nodes will have the value -1 at their node_index.\n",
    "\n",
    "Our example has only one decision node at node 0.  The optimal choice is to go to node 2 which is the flip_coin nature node.  Lets use backwards induction to see if this is right.  Backwards induction starts from the bottom of the tree and calculates the expected value of nature moves and optimal decision moves as it goes up the tree.  Here we go:\n",
    "\n",
    "*  The deepest move in the tree is the nature move to flip_coin at node 2.  This gives us a 50-50 chance of moving to heads or tails.  If we move to heads we earn 30 and if we move to tails we earn 80.  Thus the expected value of flip coin is 55 which is .5 x 30 + .5 x 80.\n",
    "*  Now we can compare the choice of sure_thing with a payoff of 50 to flip_coin with a payoff of 55.  Since 55 > 50, we should flip the coin.\n",
    "\n",
    "Our strategy is optimal and has an expected value of 55.  As a last step we can see the steps used by dt.solve using dt.see.  Uncomment the line below and run it.\n",
    "\n"
   ]
  },
  {
   "cell_type": "code",
   "execution_count": 10,
   "metadata": {},
   "outputs": [
    {
     "name": "stdout",
     "output_type": "stream",
     "text": [
      "0-decide#-1(d) (V)55.0\n",
      "   1-sure_thing#0(t)50.0 (V)50.0\n",
      "   2-flip_coin#0(n)[0.5,0.5](V)55.0\n",
      "      3-heads#2(t)30.0 (V)30.0\n",
      "      4-tails#2(t)80.0 (V)80.0\n"
     ]
    }
   ],
   "source": [
    "dt.see(first_strategy, first_tree)"
   ]
  },
  {
   "cell_type": "markdown",
   "metadata": {},
   "source": [
    "Notice the tree has the additional information following (V) which shows the value of each node that was calculated using backwards induction.  Terminal nodes always have a value equal to their payoffs while node 0 always has the expected value of the strategy."
   ]
  },
  {
   "cell_type": "markdown",
   "metadata": {},
   "source": [
    "Once you have a strategy for a tree you can also show the feasible paths that can occur as a consequence of playing the strategy.  We do this with the function call.\n",
    "\n",
    "```\n",
    "path(my_strategy, my_tree)\n",
    "```\n",
    "\n",
    "Uncomment the line below and run it."
   ]
  },
  {
   "cell_type": "code",
   "execution_count": 11,
   "metadata": {},
   "outputs": [
    {
     "name": "stdout",
     "output_type": "stream",
     "text": [
      "decide\n",
      "  flip_coin [0.5, 0.5]\n",
      "    heads 30.0\n",
      "    tails 80.0\n"
     ]
    }
   ],
   "source": [
    "dt.path(first_strategy, first_tree)"
   ]
  },
  {
   "cell_type": "markdown",
   "metadata": {},
   "source": [
    "Notice the optimal strategy for `sure_or_flip` ends up at either heads or tails.  It cannot end up at the node sure_thing."
   ]
  },
  {
   "cell_type": "markdown",
   "metadata": {},
   "source": [
    "### Exercise One:  Solving a bigger tree \n",
    "\n",
    "Do the following:\n",
    "\n",
    "1.  Load and show the decision tree in the file named big_tree.\n",
    "2.  Make a graph of big_tree.\n",
    "3.  Solve for the optimal strategy for big_tree.\n",
    "4.  Print the opitmal strategy for big_tree.\n",
    "5.  Show the feasible paths that can be played using the opitmal strategy.\n",
    "6.  Print the value of reaching node 1 if the optimal strategy is being played. \n",
    "\n",
    "We have provided the blank code cell below to get started.  Add more cells as you see fit."
   ]
  },
  {
   "cell_type": "markdown",
   "metadata": {},
   "source": [
    "### Playing and Simulating Strategies\n",
    "\n",
    "Now let's work through an example that explores different strategies in the tree using these functions.\n",
    "\n",
    "```python\n",
    "outcome = play(my_strategy, my_tree) # Play the strategy once\n",
    "outcome_list = sim(my_strategy, my_tree) # Play the startegy multiple times \n",
    "```\n",
    "Uncomment the cell bellow to build a new strategy that picks `sure_thing` at node 0.\n"
   ]
  },
  {
   "cell_type": "code",
   "execution_count": 12,
   "metadata": {},
   "outputs": [],
   "source": [
    "alt_strategy = [1, -1, -1, -1, -1]"
   ]
  },
  {
   "cell_type": "markdown",
   "metadata": {},
   "source": [
    "Now let's play this strategy usingthe dt.play function and printing the result.  To do this uncomment the lines in the cell bellow and run them."
   ]
  },
  {
   "cell_type": "code",
   "execution_count": 13,
   "metadata": {},
   "outputs": [
    {
     "name": "stdout",
     "output_type": "stream",
     "text": [
      "outcome is [1, 'sure_thing', 50.0]\n",
      "Play resulted in node 1, called sure_thing, with a payoff of 50.0\n"
     ]
    }
   ],
   "source": [
    "outcome = dt.play(alt_strategy, first_tree)\n",
    "print(\"outcome is {}\". format(outcome))\n",
    "print(\"Play resulted in node {}, called {}, with a payoff of {}\"\n",
    "      .format(outcome[0], outcome[1], outcome[2]))"
   ]
  },
  {
   "cell_type": "markdown",
   "metadata": {},
   "source": [
    "Remember, when we solved for the optimal strategy, which we called first_strategy, we found out the optimal decision was to move to flip_coin.  This makes our outcome uncertain since there is a 50% nature will move to heads and the decison maker will get a payoff of 30 and there is a 50% nature will move to tails and the decision maker will get a payoff of 80.  "
   ]
  },
  {
   "cell_type": "markdown",
   "metadata": {},
   "source": [
    "<a id=\"coding_problem_two\"></a>  \n",
    "#### Coding Problem 2\n",
    "\n",
    "In the cell below write a for loop that will play the decision tree, first_tree, ten times using the strategy, first_strategy, and print the result after each play.\n",
    "\n",
    "[Help Me](#problem_two)"
   ]
  },
  {
   "cell_type": "code",
   "execution_count": 14,
   "metadata": {},
   "outputs": [
    {
     "name": "stdout",
     "output_type": "stream",
     "text": [
      "Play 0 resulted in node 4, called tails, with a payoff of 80.0\n",
      "Play 1 resulted in node 3, called heads, with a payoff of 30.0\n",
      "Play 2 resulted in node 3, called heads, with a payoff of 30.0\n",
      "Play 3 resulted in node 4, called tails, with a payoff of 80.0\n",
      "Play 4 resulted in node 4, called tails, with a payoff of 80.0\n",
      "Play 5 resulted in node 4, called tails, with a payoff of 80.0\n",
      "Play 6 resulted in node 4, called tails, with a payoff of 80.0\n",
      "Play 7 resulted in node 3, called heads, with a payoff of 30.0\n",
      "Play 8 resulted in node 3, called heads, with a payoff of 30.0\n",
      "Play 9 resulted in node 4, called tails, with a payoff of 80.0\n"
     ]
    }
   ],
   "source": [
    "for k in range(10):\n",
    "    outcome = dt.play(first_strategy, first_tree)\n",
    "    print(\"Play {} resulted in node {}, called {}, with a payoff of {}\"\n",
    "      .format(k, outcome[0], outcome[1], outcome[2]))"
   ]
  },
  {
   "cell_type": "markdown",
   "metadata": {},
   "source": [
    "We can also simulate a strategy, using the function `dt.sim`, to produce a list of outcomes that we can then analyze further.  Notice that dt.sim has three areguments, but the last argument, `num_trials = 20`, defulats to 20 if we do not specify it in our argument list.  Uncomment the lines in the next cell to simulate alt_strategy and first_strategy 20 times.  "
   ]
  },
  {
   "cell_type": "code",
   "execution_count": 15,
   "metadata": {},
   "outputs": [
    {
     "name": "stdout",
     "output_type": "stream",
     "text": [
      "20\n",
      "sure_thing\n"
     ]
    }
   ],
   "source": [
    "strategy_output = dt.sim(first_strategy, first_tree)\n",
    "alt_strategy_output = dt.sim(alt_strategy, first_tree)\n",
    "print(len(strategy_output))\n",
    "print(alt_strategy_output[0][1])  # indexing a list of lists"
   ]
  },
  {
   "cell_type": "markdown",
   "metadata": {},
   "source": [
    "<a id=\"coding_problem_three\"></a>\n",
    "#### Coding Problem 3\n",
    "\n",
    "In the next cell we have built a stub function (i.e. a blank function with a doc string) that you should now complete.\n",
    "\n",
    "[Help Me](#problem_three)"
   ]
  },
  {
   "cell_type": "code",
   "execution_count": 16,
   "metadata": {},
   "outputs": [],
   "source": [
    "def average_payoff(strategy_output):\n",
    "    \"\"\"Computes the arithemetic mean node payoff for strategy_output.\n",
    "            Note, strategy_output is a list of lists produced by the function \n",
    "            dt.sim.\n",
    "            \n",
    "       arg:    strategy_output, list with the list elements, \n",
    "                    [node_index, node_name, node_payoff]\n",
    "       return: avg_payoff, float.\"\"\"\n",
    "    \n",
    "    avg_payoff = 0.0\n",
    "    for out in strategy_output:\n",
    "        avg_payoff += float(out[2])\n",
    "    avg_payoff /= float(len(strategy_output))\n",
    "    \n",
    "    return avg_payoff"
   ]
  },
  {
   "cell_type": "markdown",
   "metadata": {},
   "source": [
    "Now we can use our average_payoff function to calculate the average payoff of each strategy after we have simulated it 20 times.  To do this uncomment the lines in the cell below and run them."
   ]
  },
  {
   "cell_type": "code",
   "execution_count": 17,
   "metadata": {},
   "outputs": [
    {
     "name": "stdout",
     "output_type": "stream",
     "text": [
      "optimal strategy has payoff 57.5.\n",
      "alternate strategy has payoff 50.0.\n"
     ]
    }
   ],
   "source": [
    "avg_optimal = average_payoff(strategy_output)\n",
    "avg_alt = average_payoff(alt_strategy_output)\n",
    "print('{} has payoff {}.'.format('optimal strategy', avg_optimal))\n",
    "print('{} has payoff {}.'.format('alternate strategy', avg_alt))"
   ]
  },
  {
   "cell_type": "markdown",
   "metadata": {},
   "source": [
    "This is interesting.  When we ran alt_strategy 20 times it moves to the terminal node, sure_thing, with a pyoff of 50.0 every time thus we get an average payoff of 50.0.  But when we run first_strategy 20 times it moves to the nature node, flip_coin.  We know the expected value of flip-coin is 55, that is, .5x30 + .5x80.  But our simulation of 20 trials does not produce the expected value because it is the average of the sample payoffs.  \n",
    "\n",
    "Let's try an experiment.  Lets build a contest function which runs our 20 trial simulation for each strategy and ask which strategy produces the higher average payoff.  We will call that strategy the winner.  We will then run our contest 1000 times to produce a tournament.  At the end of our tournament we will be able to tell what percent of the contests each strategy will win.  We can try a little experiment and run our simulation 1000 times and ask how often will the optimal strategy is a winner."
   ]
  },
  {
   "cell_type": "markdown",
   "metadata": {},
   "source": [
    "<a id=\"coding_problem_four\"></a>\n",
    "#### Coding Problem 4\n",
    "\n",
    "We have provided two stub functions for contest and tournament below for you to fill in.\n",
    "\n",
    "[Help Me](#problem_four)"
   ]
  },
  {
   "cell_type": "code",
   "execution_count": 18,
   "metadata": {},
   "outputs": [],
   "source": [
    "def contest(strat_one, strat_two, tree, num_trials):\n",
    "    \"\"\"Run a contest between two strategies defined on tree\n",
    "    \n",
    "       This function calls dt.sim to run each strategy and\n",
    "       then calls average payoff on the outputs from dt.sim\n",
    "       and then determines the winner based on average payoffs\n",
    "    \n",
    "       arg:  strat_one, list, first strategy for tree\n",
    "       arg:  strat_two, list, second strategy for tree\n",
    "       arg:  tree, list of dictionary nodes, decision tree\n",
    "       arg:  num_trials, integer > 0, number of times the \n",
    "                         strategies compete\n",
    "       return: tuple, either (0, 1) or (1, 0) indicating\n",
    "                       which strategy won\"\"\"\n",
    "    \n",
    "    strat_one_output = dt.sim(strat_one, tree, num_trials)\n",
    "    strat_two_output = dt.sim(strat_two, tree, num_trials)\n",
    "    avg_one = average_payoff(strat_one_output)\n",
    "    avg_two = average_payoff(strat_two_output)\n",
    "    \n",
    "    if avg_one >= avg_two:\n",
    "        return 1, 0\n",
    "    else:\n",
    "        return 0, 1"
   ]
  },
  {
   "cell_type": "code",
   "execution_count": 19,
   "metadata": {},
   "outputs": [],
   "source": [
    "def tournament(strat_one, strat_two, tree, num_trials = 20, num_samples = 1000):\n",
    "    \"\"\" Run a tournament between two strategies collecting num_sample\n",
    "        runs of contests that are num_trials long and then determining\n",
    "        the number of times each strategy would have been declared the winner.\n",
    "        \n",
    "        arg:  strat_one, list, first strategy for tree\n",
    "        arg:  strat_two, list, second strategy for tree\n",
    "        arg:  tree, list of dictionary nodes, decision tree\n",
    "        arg:  num_trials, integer > 0, number of times the \n",
    "                         strategies compete in contest\n",
    "        return: strat_one_wins, strat_two_wins, tuple counting the number\n",
    "                of times each strategy won a contest out of num_samples.\n",
    "        \"\"\"\n",
    "    strat_one_wins = 0\n",
    "    strat_two_wins = 0\n",
    "    for k in range(num_samples):\n",
    "        one_win, two_win = contest(strat_one, strat_two, tree, num_trials)\n",
    "        strat_one_wins += one_win\n",
    "        strat_two_wins += two_win\n",
    "        \n",
    "    return strat_one_wins, strat_two_wins      "
   ]
  },
  {
   "cell_type": "markdown",
   "metadata": {},
   "source": [
    "Once you have coded the contest and tournament go ahead and uncomment the code in the next cell to run the tournament."
   ]
  },
  {
   "cell_type": "code",
   "execution_count": 20,
   "metadata": {},
   "outputs": [
    {
     "name": "stdout",
     "output_type": "stream",
     "text": [
      "88.3 11.7\n"
     ]
    }
   ],
   "source": [
    "one_count, two_count = tournament(first_strategy, alt_strategy, first_tree)\n",
    "print(one_count/10, two_count/10)  "
   ]
  },
  {
   "cell_type": "markdown",
   "metadata": {},
   "source": [
    "So our tournament show us that out of a thousand samples of 20 trials, choosing to play the optimal strategy is not always a winning proposition.  Does playing it for more trials make it more likely that the optimal strategy is a winning proposition?  "
   ]
  },
  {
   "cell_type": "markdown",
   "metadata": {},
   "source": [
    "<a id=\"coding_problem_five\"></a>\n",
    "#### Coding Problem 5\n",
    "\n",
    "We can now do a monte_carlo experiment to answer this question.  Our treament variable will be the number_of_trials which we will vary from 10 to 100.  Fill out the monte_carlo stub below and then run the experiment. \n",
    "\n",
    "[Help Me](#problem_five)"
   ]
  },
  {
   "cell_type": "code",
   "execution_count": 21,
   "metadata": {},
   "outputs": [],
   "source": [
    "def monte_carlo(first_strategy, second_strategy, tree, start, increment):\n",
    "    \"\"\"Monte Carlo to test for effect of number of trials on tournament\n",
    "    \n",
    "        arg:  first_strategy, list, first strategy for tree\n",
    "        arg:  second_strategy, list, second strategy for tree\n",
    "        arg:  tree, list of dictionary nodes, decision tree\n",
    "        arg:  start, integer > 0, number of trials the \n",
    "                         strategies compete in contest\n",
    "        arg:  increment, integer > 0, how much to increment number of trials\n",
    "                         being used to vary num_trials as a treatment variable.\n",
    "    \"\"\"\n",
    "    num_trials = start\n",
    "    for k in range(10):\n",
    "        one_count, two_count = tournament(first_strategy, second_strategy, \n",
    "                                          tree, num_trials)\n",
    "        print(k, num_trials, one_count/10, two_count/10)\n",
    "        num_trials += increment"
   ]
  },
  {
   "cell_type": "markdown",
   "metadata": {},
   "source": [
    "Now uncomment and run the line below."
   ]
  },
  {
   "cell_type": "code",
   "execution_count": 22,
   "metadata": {},
   "outputs": [
    {
     "name": "stdout",
     "output_type": "stream",
     "text": [
      "0 10 85.2 14.8\n",
      "1 20 86.0 14.0\n",
      "2 30 89.3 10.7\n",
      "3 40 92.3 7.7\n",
      "4 50 94.9 5.1\n",
      "5 60 95.3 4.7\n",
      "6 70 96.1 3.9\n",
      "7 80 95.3 4.7\n",
      "8 90 97.3 2.7\n",
      "9 100 97.9 2.1\n"
     ]
    }
   ],
   "source": [
    "monte_carlo(first_strategy, alt_strategy, first_tree, 10, 10)"
   ]
  },
  {
   "cell_type": "markdown",
   "metadata": {},
   "source": [
    "What does our monte carlo experiment tell us?"
   ]
  },
  {
   "cell_type": "markdown",
   "metadata": {},
   "source": [
    "### Exercise Two:  Back to big tree\n",
    "\n",
    "Do the following:\n",
    "\n",
    "1.  Load and show the decision tree in the file named big_tree.\n",
    "2.  Solve for the optimal stratrgy.\n",
    "3.  Choose the alternative strategy that moves to node 1 but is otherwise optimal.\n",
    "4.  Run a monte-carlo experiment to compare the two strategies as you vary the number of trials in a contest between the strtegies.\n",
    "5.  Run another monte_carlo experiment that varies the probability of reaching node 7 and see how that affect the contest between the two strategies. \n",
    "\n",
    "We have provided the blank code cell below to get started.  Add more cells as you see fit."
   ]
  },
  {
   "cell_type": "markdown",
   "metadata": {},
   "source": [
    "### File structure for a tree\n",
    "\n",
    "A decision tree file has a particular structure.  If you understand this structure you can build a tree in any text editor or in a program.  Let's open the `sure_or_flip.txt` file in a text editor.  This is what you will see."
   ]
  },
  {
   "cell_type": "markdown",
   "metadata": {},
   "source": [
    "```\n",
    "node,0\n",
    "name,decide\n",
    "type,d\n",
    "length,2\n",
    "descendant,1\n",
    "descendant,2\n",
    "node,1\n",
    "name,sure_thing\n",
    "type,t\n",
    "pay,50.0\n",
    "node,2\n",
    "name,flip_coin\n",
    "type,n\n",
    "length,2\n",
    "descendant,3\n",
    "descendant,4\n",
    "prob,0.5\n",
    "prob,0.5\n",
    "node,3\n",
    "name,heads\n",
    "type,t\n",
    "pay,30\n",
    "node,4\n",
    "name,tails\n",
    "type,t\n",
    "pay,80\n",
    "```"
   ]
  },
  {
   "cell_type": "markdown",
   "metadata": {},
   "source": [
    "Notice, the values in the file are comma seperated.  Each line contains node information.  In the file, the nodes appear in sequential order staring with node 0, then later on node 1, and then later on node 2, etc.  This order has to be preserved in the file.\n",
    "\n",
    "The line `node, 0` indicates we are working on node 0.  The next line `name, decide` tells us the name of node 0 is `decide`.  The next line is `type, d`.  This line tells us that node 0 is a decision node.  The next line `length, 2` tells us that node 0 has two descendants.  The next two lines list the descendants in order.  The line `descendant, 1` says the first descendent of node 0 is node 1.\n",
    "\n",
    "The line `node, 1` indicates we are now working on node 1.  As we look down we see that node 1 has a line `type, t` indicating it is a terminal node.  Since node 1 is a terminal node it also has a line `pay, 50.0` indicating the payoff for reaching this node.  \n",
    "\n",
    "The line `node, 2` indicates we are working on node 2.  Lines below tell us that node 2 is a nature node with 2 descendants.  After the descnedant nodes we see two lines `prob, .5` and `prob, .5` which indicate the probability of reaching a particular descendant node.  Note that order mattere here.  \n",
    "\n",
    "Once all the nodes and their information have been filled out as `label, value` pairs the file was then saved as a text file with the `.txt` file.   "
   ]
  },
  {
   "cell_type": "markdown",
   "metadata": {},
   "source": [
    "### Exercise Three:  Loaded Die\n",
    "\n",
    "Create, edit, and save a text file which you will call `loaded_die.txt`.  This file will model the decison tree assocoiated with rolling a loaded die.  In particular, instead of each number on the die having an equal chance of occuring the numbers 3 and 6 will be twice as likely as the other numbers.  When you are done see if you can load the tree by calling `load()` and then solve the tree by calling `solve()`. "
   ]
  },
  {
   "cell_type": "markdown",
   "metadata": {},
   "source": [
    "### Build, Edit, and Save Files\n",
    "\n",
    "So far, when we needed a decision tree we loaded it using the `dt.load` function.  The last step is learning how to build, edit, and save trees.  There are three functions for this.\n",
    "\n",
    "```python\n",
    "my_new_tree = dt.build() # This will build a tree from scratch\n",
    "edited_tree = dt.edit(my_tree) # This will edit a tree you have built or loaded\n",
    "dt.save(my_tree)  # This will save a tree\n",
    "```\n",
    "To use the build function you should already have a good outline of the tree you want to build.  You build a tree starting at node 0 and you work down the tree level by level.  Lets look at our sure_or_flip example again.  Uncomment the line below and run it."
   ]
  },
  {
   "cell_type": "code",
   "execution_count": null,
   "metadata": {},
   "outputs": [],
   "source": [
    "#dt.show(first_tree)"
   ]
  },
  {
   "cell_type": "markdown",
   "metadata": {},
   "source": [
    "Notice that sure_or_flip has three levels.  \n",
    "\n",
    "* Level 0 has node 0.  \n",
    "* Level 1 has the descendants of node 0, that is, nodes 1 and 2.  \n",
    "* Level 2 has the descendants of node 2, that is, nodes 3 and 4.\n",
    "\n",
    "Once you call `dt.build` it you will be asked to indicate what node you are working on and you will be asked to provide information about the node.  This is similar to the information you had to provide to build a decision tree file but now you are doing it interactively in this notbeook.\n",
    "\n",
    "Note the `dt.build` function needs to get the order of the nodes and their descendants correct.  if you make a mistake on order you will have to try again.  However, as we shall see you can edit the name, payoff, and probabilities in the tree without starting over.\n",
    "\n",
    "Go ahead and uncomment the line in the next cell and run it to build the sure_or_flip tree from scratch and call it new_tree."
   ]
  },
  {
   "cell_type": "code",
   "execution_count": null,
   "metadata": {},
   "outputs": [],
   "source": [
    "#new_tree = dt.build()"
   ]
  },
  {
   "cell_type": "markdown",
   "metadata": {},
   "source": [
    "Once you have built new_tree go ahead and use `dt.show` to make sure it looks correct.  Just to check you can run `dt.solve` and check to see if you get the same solution for new_tree as you got for first_tree.  Once you are sure the tree is the same you can uncomment the line below and use dt.solve to save the tree.  You might as well call it new_tree."
   ]
  },
  {
   "cell_type": "code",
   "execution_count": null,
   "metadata": {},
   "outputs": [],
   "source": [
    "#dt.save()"
   ]
  },
  {
   "cell_type": "markdown",
   "metadata": {},
   "source": [
    "Because of the way trees are saved it is difficult to add or subtract nodes to the tree.  If you make a mistake here you have to start over.  Once you have a tree it is easy to edit the names of nodes or the payoffs associated with nodes.  Lets do this with our new_tree, using the function `dt.edit`.  Uncooment the code in the cell below and run it.  Tell `dt.edit` that you want to change a payoff then change the payoff for node 4 to 68.  Instead of replying n to each terminal node you don't want to change you can simply hit return.  How does this change the optimal solution to your tree?  Why? "
   ]
  },
  {
   "cell_type": "code",
   "execution_count": null,
   "metadata": {},
   "outputs": [],
   "source": [
    "#new_tree = dt.load()\n",
    "#new_tree = dt.edit(new_tree)"
   ]
  },
  {
   "cell_type": "markdown",
   "metadata": {},
   "source": [
    "### Exercise Four:  Find the prize  \n",
    "\n",
    "A decision maker must choose whether to look in the left box or the right box.  Nature then hides the prize in one of the boxes.  You can decide what probabilites nature uses?\n",
    "\n",
    "*  If the chosen box contains the prize the payoff is 10.\n",
    "*  If the chosen box does not contain the prize the payoff is 0.\n",
    "\n",
    "Complete the following steps:\n",
    "\n",
    "1.  Graph your decison tree on a piece of paper. \n",
    "2.  Build the find_the_prize decision tree and then save it.\n",
    "3.  What would it mean in this example if you gave nature two different probability distributions at each of the nature nodes?\n",
    "3.  Solve for the optimal strategy and expected value.\n",
    "4.  Explore the value of the alternate strategy.\n",
    "5.  What will make the value of the alternate strategy approach the value of the optimal strategy.  (Hint:  You will have to edit the tree to answer this question)."
   ]
  },
  {
   "cell_type": "markdown",
   "metadata": {},
   "source": [
    "## Solutions to Problems and Exercises\n",
    "\n",
    "In the notebook you have been given a number of coding problems and exercises.  The solutions to these are found here.  You can always copy and paste the solutions found here back into the body of the notebook."
   ]
  },
  {
   "cell_type": "markdown",
   "metadata": {},
   "source": [
    "<a id=\"problem_one\"></a>\n",
    "### Coding Problem 1.\n",
    "\n",
    "[BACK](#coding_problem_one)"
   ]
  },
  {
   "cell_type": "code",
   "execution_count": 23,
   "metadata": {},
   "outputs": [
    {
     "name": "stdout",
     "output_type": "stream",
     "text": [
      "[2, -1, -1, -1, -1]\n"
     ]
    }
   ],
   "source": [
    "print(first_strategy)"
   ]
  },
  {
   "cell_type": "markdown",
   "metadata": {},
   "source": [
    "<a id=\"problem_two\"></a>\n",
    "### Coding Problem 2.\n",
    "\n",
    "[BACK](#coding_problem_two)"
   ]
  },
  {
   "cell_type": "code",
   "execution_count": 24,
   "metadata": {},
   "outputs": [
    {
     "name": "stdout",
     "output_type": "stream",
     "text": [
      "Play 0 resulted in node 4, called tails, with a payoff of 80.0\n",
      "Play 1 resulted in node 3, called heads, with a payoff of 30.0\n",
      "Play 2 resulted in node 3, called heads, with a payoff of 30.0\n",
      "Play 3 resulted in node 4, called tails, with a payoff of 80.0\n",
      "Play 4 resulted in node 3, called heads, with a payoff of 30.0\n",
      "Play 5 resulted in node 3, called heads, with a payoff of 30.0\n",
      "Play 6 resulted in node 3, called heads, with a payoff of 30.0\n",
      "Play 7 resulted in node 3, called heads, with a payoff of 30.0\n",
      "Play 8 resulted in node 3, called heads, with a payoff of 30.0\n",
      "Play 9 resulted in node 4, called tails, with a payoff of 80.0\n"
     ]
    }
   ],
   "source": [
    "for k in range(10):\n",
    "    outcome = dt.play(first_strategy, first_tree)\n",
    "    print(\"Play {} resulted in node {}, called {}, with a payoff of {}\"\n",
    "      .format(k, outcome[0], outcome[1], outcome[2]))"
   ]
  },
  {
   "cell_type": "markdown",
   "metadata": {},
   "source": [
    "<a id=\"problem_three\"></a>\n",
    "### Coding Problem 3.\n",
    "\n",
    "[BACK](#coding_problem_three)"
   ]
  },
  {
   "cell_type": "code",
   "execution_count": 25,
   "metadata": {},
   "outputs": [],
   "source": [
    "def average_payoff(strategy_output):\n",
    "    \"\"\"Computes the arithemetic mean node payoff for strategy_output.\n",
    "            Note, strategy_output is a list of lists produced by the function \n",
    "            dt.sim.\n",
    "            \n",
    "       arg:    strategy_output, list with the list elements, \n",
    "                    [node_index, node_name, node_payoff]\n",
    "       return: avg_payoff, float.\"\"\"\n",
    "    \n",
    "    avg_payoff = 0.0\n",
    "    for out in strategy_output:\n",
    "        avg_payoff += float(out[2])\n",
    "    avg_payoff /= float(len(strategy_output))\n",
    "    \n",
    "    return avg_payoff"
   ]
  },
  {
   "cell_type": "markdown",
   "metadata": {},
   "source": [
    "<a id=\"problem_four\"></a>\n",
    "### Coding Problem 4.\n",
    "\n",
    "[BACK](#coding_problem_four)"
   ]
  },
  {
   "cell_type": "code",
   "execution_count": 26,
   "metadata": {},
   "outputs": [],
   "source": [
    "def contest(strat_one, strat_two, tree, num_trials):\n",
    "    \"\"\"Run a contest between two strategies defined on tree\n",
    "    \n",
    "       This function calls dt.sim to run each strategy and\n",
    "       then calls average payoff on the outputs from dt.sim\n",
    "       and then determines the winner based on average payoffs\n",
    "    \n",
    "       arg:  strat_one, list, first strategy for tree\n",
    "       arg:  strat_two, list, second strategy for tree\n",
    "       arg:  tree, list of dictionary nodes, decision tree\n",
    "       arg:  num_trials, integer > 0, number of times the \n",
    "                         strategies compete\n",
    "       return: tuple, either (0, 1) or (1, 0) indicating\n",
    "                       which strategy won\"\"\"\n",
    "    \n",
    "    strat_one_output = dt.sim(strat_one, tree, num_trials)\n",
    "    strat_two_output = dt.sim(strat_two, tree, num_trials)\n",
    "    avg_one = average_payoff(strat_one_output)\n",
    "    avg_two = average_payoff(strat_two_output)\n",
    "    \n",
    "    if avg_one >= avg_two:\n",
    "        return 1, 0\n",
    "    else:\n",
    "        return 0, 1"
   ]
  },
  {
   "cell_type": "code",
   "execution_count": 27,
   "metadata": {},
   "outputs": [],
   "source": [
    "def tournament(strat_one, strat_two, tree, num_trials = 20, num_samples = 1000):\n",
    "    \"\"\" Run a tournament between two strategies collecting num_sample\n",
    "        runs of contests that are num_trials long and then determining\n",
    "        the number of times each strategy would have been declared the winner.\n",
    "        \n",
    "        arg:  strat_one, list, first strategy for tree\n",
    "        arg:  strat_two, list, second strategy for tree\n",
    "        arg:  tree, list of dictionary nodes, decision tree\n",
    "        arg:  num_trials, integer > 0, number of times the \n",
    "                         strategies compete in contest\n",
    "        return: strat_one_wins, strat_two_wins, tuple counting the number\n",
    "                of times each strategy won a contest out of num_samples.\n",
    "        \"\"\"\n",
    "    \n",
    "    strat_one_wins = 0\n",
    "    strat_two_wins = 0\n",
    "    for k in range(num_samples):\n",
    "        one_win, two_win = contest(strat_one, strat_two, tree, num_trials)\n",
    "        strat_one_wins += one_win\n",
    "        strat_two_wins += two_win\n",
    "        \n",
    "    return strat_one_wins, strat_two_wins       "
   ]
  },
  {
   "cell_type": "markdown",
   "metadata": {},
   "source": [
    "<a id=\"problem_five\"></a>\n",
    "### Coding Problem 5.\n",
    "\n",
    "[BACK](#coding_problem_five)"
   ]
  },
  {
   "cell_type": "code",
   "execution_count": 28,
   "metadata": {},
   "outputs": [],
   "source": [
    "def monte_carlo(first_strategy, second_strategy, tree, start, increment):\n",
    "    \"\"\"Monte Carlo to test for effect of number of trials on tournament\n",
    "    \n",
    "        arg:  first_strategy, list, first strategy for tree\n",
    "        arg:  second_strategy, list, second strategy for tree\n",
    "        arg:  tree, list of dictionary nodes, decision tree\n",
    "        arg:  start, integer > 0, number of trials the \n",
    "                         strategies compete in contest\n",
    "        arg:  increment, integer > 0, how much to increment number of trials\n",
    "                         being used to vary num_trials as a treatment variable.\n",
    "    \"\"\"\n",
    "    \n",
    "    num_trials = start\n",
    "    for k in range(10):\n",
    "        one_count, two_count = tournament(first_strategy, second_strategy, \n",
    "                                          tree, num_trials)\n",
    "        print(k, num_trials, one_count/10, two_count/10)\n",
    "        num_trials += increment"
   ]
  }
 ],
 "metadata": {
  "kernelspec": {
   "display_name": "Python 3",
   "language": "python",
   "name": "python3"
  },
  "language_info": {
   "codemirror_mode": {
    "name": "ipython",
    "version": 3
   },
   "file_extension": ".py",
   "mimetype": "text/x-python",
   "name": "python",
   "nbconvert_exporter": "python",
   "pygments_lexer": "ipython3",
   "version": "3.6.5"
  }
 },
 "nbformat": 4,
 "nbformat_minor": 2
}
